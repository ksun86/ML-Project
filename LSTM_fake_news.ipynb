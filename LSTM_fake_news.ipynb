{
  "nbformat": 4,
  "nbformat_minor": 0,
  "metadata": {
    "colab": {
      "name": "LSTM fake news.ipynb",
      "provenance": [],
      "collapsed_sections": [],
      "toc_visible": true
    },
    "kernelspec": {
      "name": "python3",
      "display_name": "Python 3"
    },
    "accelerator": "GPU"
  },
  "cells": [
    {
      "cell_type": "code",
      "metadata": {
        "id": "Q8bCvFAbdncP",
        "colab_type": "code",
        "outputId": "e253efe9-9f52-4e73-a1ba-8956906e7ac4",
        "colab": {
          "base_uri": "https://localhost:8080/",
          "height": 217
        }
      },
      "source": [
        "!pip install scikit-plot"
      ],
      "execution_count": 0,
      "outputs": [
        {
          "output_type": "stream",
          "text": [
            "Requirement already satisfied: scikit-plot in /usr/local/lib/python3.6/dist-packages (0.3.7)\n",
            "Requirement already satisfied: matplotlib>=1.4.0 in /usr/local/lib/python3.6/dist-packages (from scikit-plot) (3.2.1)\n",
            "Requirement already satisfied: scikit-learn>=0.18 in /usr/local/lib/python3.6/dist-packages (from scikit-plot) (0.22.2.post1)\n",
            "Requirement already satisfied: scipy>=0.9 in /usr/local/lib/python3.6/dist-packages (from scikit-plot) (1.4.1)\n",
            "Requirement already satisfied: joblib>=0.10 in /usr/local/lib/python3.6/dist-packages (from scikit-plot) (0.14.1)\n",
            "Requirement already satisfied: kiwisolver>=1.0.1 in /usr/local/lib/python3.6/dist-packages (from matplotlib>=1.4.0->scikit-plot) (1.2.0)\n",
            "Requirement already satisfied: numpy>=1.11 in /usr/local/lib/python3.6/dist-packages (from matplotlib>=1.4.0->scikit-plot) (1.18.2)\n",
            "Requirement already satisfied: python-dateutil>=2.1 in /usr/local/lib/python3.6/dist-packages (from matplotlib>=1.4.0->scikit-plot) (2.8.1)\n",
            "Requirement already satisfied: pyparsing!=2.0.4,!=2.1.2,!=2.1.6,>=2.0.1 in /usr/local/lib/python3.6/dist-packages (from matplotlib>=1.4.0->scikit-plot) (2.4.6)\n",
            "Requirement already satisfied: cycler>=0.10 in /usr/local/lib/python3.6/dist-packages (from matplotlib>=1.4.0->scikit-plot) (0.10.0)\n",
            "Requirement already satisfied: six>=1.5 in /usr/local/lib/python3.6/dist-packages (from python-dateutil>=2.1->matplotlib>=1.4.0->scikit-plot) (1.12.0)\n"
          ],
          "name": "stdout"
        }
      ]
    },
    {
      "cell_type": "code",
      "metadata": {
        "id": "1cSwz4KlSlXL",
        "colab_type": "code",
        "colab": {}
      },
      "source": [
        "import random\n",
        "import numpy as np\n",
        "import torch\n",
        "import torchvision\n",
        "from  torch.autograd import Variable\n",
        "import torch.nn as nn\n",
        "import torch.nn.functional as F\n",
        "import torch.optim as optim\n",
        "from  torchvision import datasets, transforms\n",
        "from torchsummary import summary\n",
        "import os\n",
        "import skimage"
      ],
      "execution_count": 0,
      "outputs": []
    },
    {
      "cell_type": "code",
      "metadata": {
        "id": "RNUaMFmEcKO0",
        "colab_type": "code",
        "colab": {}
      },
      "source": [
        "import re\n",
        "import string\n",
        "import pandas as pd\n",
        "import matplotlib.pyplot as plt\n",
        "import scikitplot.plotters as skplt\n",
        "from gensim.models import Doc2Vec\n",
        "from gensim.models.doc2vec import TaggedDocument\n",
        "from gensim import utils\n",
        "from nltk.corpus import stopwords"
      ],
      "execution_count": 0,
      "outputs": []
    },
    {
      "cell_type": "code",
      "metadata": {
        "id": "Sz3ne69xUKOB",
        "colab_type": "code",
        "colab": {}
      },
      "source": [
        "import warnings\n",
        "warnings.filterwarnings(\"ignore\")"
      ],
      "execution_count": 0,
      "outputs": []
    },
    {
      "cell_type": "code",
      "metadata": {
        "id": "Q-227d4kcHZu",
        "colab_type": "code",
        "colab": {}
      },
      "source": [
        "def plot_cmat(yte, ypred):\n",
        "    '''Plotting confusion matrix'''\n",
        "    skplt.plot_confusion_matrix(yte,ypred,normalize=True)\n",
        "    plt.show()"
      ],
      "execution_count": 0,
      "outputs": []
    },
    {
      "cell_type": "code",
      "metadata": {
        "id": "eV0M29WpDeCW",
        "colab_type": "code",
        "colab": {}
      },
      "source": [
        "class nn_Fake_News(nn.Module):\n",
        "  def __init__(self):\n",
        "    super(nn_Fake_News, self).__init__()\n",
        "    # self.nn_forward = nn.Sequential(\n",
        "    #     #nn.Embedding(200, 60),\n",
        "\n",
        "    #     #nn.Sigmoid()\n",
        "    # )\n",
        "    self.lstm = nn.LSTM(300, 60, 1)\n",
        "    self.drop = nn.Dropout(0.5)\n",
        "    self.nn_linear1 = nn.Linear(60, 60)\n",
        "    self.relu = nn.ReLU()\n",
        "    self.nn_linear2 = nn.Linear(60, 2)\n",
        "    #self.output = nn.Sigmoid()\n",
        "\n",
        "  def forward(self, input):\n",
        "    x, _ = self.lstm(input)\n",
        "    x = self.drop(x)\n",
        "    x = self.nn_linear1(x)\n",
        "    x = self.relu(x)\n",
        "    x = self.drop(x)\n",
        "    x = self.nn_linear2(x)    \n",
        "    return x"
      ],
      "execution_count": 0,
      "outputs": []
    },
    {
      "cell_type": "code",
      "metadata": {
        "id": "QQOcmaTtppF9",
        "colab_type": "code",
        "colab": {}
      },
      "source": [
        "xtr = np.load('./xtr.npy')\n",
        "xte = np.load('./xte.npy')\n",
        "ytr = np.load('./ytr.npy')\n",
        "yte = np.load('./yte.npy')\n",
        "\n",
        "tr_label = np.zeros((xtr.shape[0], 2), dtype=float)\n",
        "for i in range(xtr.shape[0]):\n",
        "  if ytr[i] == 1:\n",
        "    tr_label[i, :] = [0.0, 1.0]\n",
        "  else:\n",
        "    tr_label[i, :] = [1.0, 0.0]\n",
        "tr_label = torch.from_numpy(tr_label).double().cuda()\n"
      ],
      "execution_count": 0,
      "outputs": []
    },
    {
      "cell_type": "code",
      "metadata": {
        "id": "NEOTdZ56rLF9",
        "colab_type": "code",
        "outputId": "3706388f-d07f-454a-c154-18d3fb208d94",
        "colab": {
          "base_uri": "https://localhost:8080/",
          "height": 1000
        }
      },
      "source": [
        "nn_FN = nn_Fake_News().double().cuda()\n",
        "optimizer = optim.SGD(nn_FN.parameters(), lr=0.01, momentum=0.9)\n",
        "\n",
        "loss_function = nn.BCEWithLogitsLoss()\n",
        "\n",
        "for epoch in range(10000):  \n",
        "  y_pred = nn_FN(torch.from_numpy(xtr.reshape(-1, xtr.shape[0], xtr.shape[1])).double().cuda())\n",
        "\n",
        "  optimizer.zero_grad()\n",
        "  loss = loss_function(y_pred.view(xtr.shape[0], 2), tr_label.detach())\n",
        "  \n",
        "  loss.backward()\n",
        "  optimizer.step()        \n",
        "\n",
        "  #print(\"Loss = %.5f\" % loss.item()) \n",
        "  if (epoch%100==0):\n",
        "    print(\"Epoch %d\" % epoch)\n",
        "    print(\"Loss = %.5f\" % loss.item()) \n",
        "    torch.save(nn_FN, 'nn_Fake_News.pkl')\n",
        "\n",
        "print('Finished Training')"
      ],
      "execution_count": 0,
      "outputs": [
        {
          "output_type": "stream",
          "text": [
            "Epoch 0\n",
            "Loss = 0.69542\n",
            "Epoch 100\n",
            "Loss = 0.69001\n",
            "Epoch 200\n",
            "Loss = 0.68128\n",
            "Epoch 300\n",
            "Loss = 0.64969\n",
            "Epoch 400\n",
            "Loss = 0.53553\n",
            "Epoch 500\n",
            "Loss = 0.38088\n",
            "Epoch 600\n",
            "Loss = 0.30647\n",
            "Epoch 700\n",
            "Loss = 0.27612\n",
            "Epoch 800\n",
            "Loss = 0.25380\n",
            "Epoch 900\n",
            "Loss = 0.24044\n",
            "Epoch 1000\n",
            "Loss = 0.22874\n",
            "Epoch 1100\n",
            "Loss = 0.22495\n",
            "Epoch 1200\n",
            "Loss = 0.21782\n",
            "Epoch 1300\n",
            "Loss = 0.20851\n",
            "Epoch 1400\n",
            "Loss = 0.20695\n",
            "Epoch 1500\n",
            "Loss = 0.20464\n",
            "Epoch 1600\n",
            "Loss = 0.19616\n",
            "Epoch 1700\n",
            "Loss = 0.19442\n",
            "Epoch 1800\n",
            "Loss = 0.19291\n",
            "Epoch 1900\n",
            "Loss = 0.19064\n",
            "Epoch 2000\n",
            "Loss = 0.19042\n",
            "Epoch 2100\n",
            "Loss = 0.18542\n",
            "Epoch 2200\n",
            "Loss = 0.18202\n",
            "Epoch 2300\n",
            "Loss = 0.18107\n",
            "Epoch 2400\n",
            "Loss = 0.18452\n",
            "Epoch 2500\n",
            "Loss = 0.17844\n",
            "Epoch 2600\n",
            "Loss = 0.17741\n",
            "Epoch 2700\n",
            "Loss = 0.17563\n",
            "Epoch 2800\n",
            "Loss = 0.17606\n",
            "Epoch 2900\n",
            "Loss = 0.17581\n",
            "Epoch 3000\n",
            "Loss = 0.17190\n",
            "Epoch 3100\n",
            "Loss = 0.17464\n",
            "Epoch 3200\n",
            "Loss = 0.17297\n",
            "Epoch 3300\n",
            "Loss = 0.16906\n",
            "Epoch 3400\n",
            "Loss = 0.16977\n",
            "Epoch 3500\n",
            "Loss = 0.16843\n",
            "Epoch 3600\n",
            "Loss = 0.16753\n",
            "Epoch 3700\n",
            "Loss = 0.16656\n",
            "Epoch 3800\n",
            "Loss = 0.16527\n",
            "Epoch 3900\n",
            "Loss = 0.16466\n",
            "Epoch 4000\n",
            "Loss = 0.16322\n",
            "Epoch 4100\n",
            "Loss = 0.16302\n",
            "Epoch 4200\n",
            "Loss = 0.16297\n",
            "Epoch 4300\n",
            "Loss = 0.16269\n",
            "Epoch 4400\n",
            "Loss = 0.16120\n",
            "Epoch 4500\n",
            "Loss = 0.16019\n",
            "Epoch 4600\n",
            "Loss = 0.15942\n",
            "Epoch 4700\n",
            "Loss = 0.15917\n",
            "Epoch 4800\n",
            "Loss = 0.15921\n",
            "Epoch 4900\n",
            "Loss = 0.15642\n",
            "Epoch 5000\n",
            "Loss = 0.15643\n",
            "Epoch 5100\n",
            "Loss = 0.15588\n",
            "Epoch 5200\n",
            "Loss = 0.15562\n",
            "Epoch 5300\n",
            "Loss = 0.15580\n",
            "Epoch 5400\n",
            "Loss = 0.15454\n",
            "Epoch 5500\n",
            "Loss = 0.15592\n",
            "Epoch 5600\n",
            "Loss = 0.15265\n",
            "Epoch 5700\n",
            "Loss = 0.15187\n",
            "Epoch 5800\n",
            "Loss = 0.15124\n",
            "Epoch 5900\n",
            "Loss = 0.15180\n",
            "Epoch 6000\n",
            "Loss = 0.15221\n",
            "Epoch 6100\n",
            "Loss = 0.15091\n",
            "Epoch 6200\n",
            "Loss = 0.14989\n",
            "Epoch 6300\n",
            "Loss = 0.15028\n",
            "Epoch 6400\n",
            "Loss = 0.14924\n",
            "Epoch 6500\n",
            "Loss = 0.14927\n",
            "Epoch 6600\n",
            "Loss = 0.14574\n",
            "Epoch 6700\n",
            "Loss = 0.14770\n",
            "Epoch 6800\n",
            "Loss = 0.14637\n",
            "Epoch 6900\n",
            "Loss = 0.14599\n",
            "Epoch 7000\n",
            "Loss = 0.14772\n",
            "Epoch 7100\n",
            "Loss = 0.14408\n",
            "Epoch 7200\n",
            "Loss = 0.14229\n",
            "Epoch 7300\n",
            "Loss = 0.14615\n",
            "Epoch 7400\n",
            "Loss = 0.14369\n",
            "Epoch 7500\n",
            "Loss = 0.14472\n",
            "Epoch 7600\n",
            "Loss = 0.14026\n",
            "Epoch 7700\n",
            "Loss = 0.14321\n",
            "Epoch 7800\n",
            "Loss = 0.14274\n",
            "Epoch 7900\n",
            "Loss = 0.14124\n",
            "Epoch 8000\n",
            "Loss = 0.14156\n",
            "Epoch 8100\n",
            "Loss = 0.14072\n",
            "Epoch 8200\n",
            "Loss = 0.14124\n",
            "Epoch 8300\n",
            "Loss = 0.14202\n",
            "Epoch 8400\n",
            "Loss = 0.13890\n",
            "Epoch 8500\n",
            "Loss = 0.13819\n",
            "Epoch 8600\n",
            "Loss = 0.13976\n",
            "Epoch 8700\n",
            "Loss = 0.13913\n",
            "Epoch 8800\n",
            "Loss = 0.13763\n",
            "Epoch 8900\n",
            "Loss = 0.13659\n",
            "Epoch 9000\n",
            "Loss = 0.13725\n",
            "Epoch 9100\n",
            "Loss = 0.13929\n",
            "Epoch 9200\n",
            "Loss = 0.13748\n",
            "Epoch 9300\n",
            "Loss = 0.13694\n",
            "Epoch 9400\n",
            "Loss = 0.13537\n",
            "Epoch 9500\n",
            "Loss = 0.13703\n",
            "Epoch 9600\n",
            "Loss = 0.13691\n",
            "Epoch 9700\n",
            "Loss = 0.13437\n",
            "Epoch 9800\n",
            "Loss = 0.13342\n",
            "Epoch 9900\n",
            "Loss = 0.13304\n",
            "Finished Training\n"
          ],
          "name": "stdout"
        }
      ]
    },
    {
      "cell_type": "code",
      "metadata": {
        "id": "N2vlArY-vsPc",
        "colab_type": "code",
        "outputId": "a70a9efb-232d-431f-9a96-19d3007824c8",
        "colab": {
          "base_uri": "https://localhost:8080/",
          "height": 313
        }
      },
      "source": [
        "y_pred_raw = nn_FN(torch.from_numpy(xte.reshape(-1, xte.shape[0], xte.shape[1])).cuda())\n",
        "y_pred = np.zeros(y_pred_raw.shape[1])\n",
        "for i in range(y_pred_raw.shape[1]):\n",
        "    if y_pred_raw[0, i, 1] > y_pred_raw[0, i, 0]:\n",
        "      y_pred[i] = 1\n",
        "    else:\n",
        "      y_pred[i] = 0\n",
        "\n",
        "m = yte.shape[0]\n",
        "n = (yte != y_pred).sum()\n",
        "print(\"Accuracy = \" + format((m-n)/m*100, '.2f') + \"%\")   # 72.94%\n",
        "\n",
        "# Draw the confusion matrix\n",
        "plot_cmat(yte, y_pred)"
      ],
      "execution_count": 0,
      "outputs": [
        {
          "output_type": "stream",
          "text": [
            "Accuracy = 93.93%\n"
          ],
          "name": "stdout"
        },
        {
          "output_type": "display_data",
          "data": {
            "image/png": "[encoded data removed]",
            "text/plain": [
              "<Figure size 432x288 with 2 Axes>"
            ]
          },
          "metadata": {
            "tags": []
          }
        }
      ]
    }
  ]
}