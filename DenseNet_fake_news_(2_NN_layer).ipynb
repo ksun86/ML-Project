{
  "nbformat": 4,
  "nbformat_minor": 0,
  "metadata": {
    "colab": {
      "name": "DenseNet fake news (2 - NN layer).ipynb",
      "provenance": [],
      "collapsed_sections": [],
      "toc_visible": true
    },
    "kernelspec": {
      "name": "python3",
      "display_name": "Python 3"
    },
    "accelerator": "GPU"
  },
  "cells": [
    {
      "cell_type": "code",
      "metadata": {
        "id": "Q8bCvFAbdncP",
        "colab_type": "code",
        "outputId": "56cf1ef9-1683-46ee-ac78-6d1337a70254",
        "colab": {
          "base_uri": "https://localhost:8080/",
          "height": 254
        }
      },
      "source": [
        "!pip install scikit-plot"
      ],
      "execution_count": 0,
      "outputs": [
        {
          "output_type": "stream",
          "text": [
            "Installing collected packages: scikit-plot\n",
            "Successfully installed scikit-plot-0.3.7\n",
            "Requirement already satisfied: scikit-plot in /usr/local/lib/python3.6/dist-packages (0.3.7)\n",
            "Requirement already satisfied: joblib>=0.10 in /usr/local/lib/python3.6/dist-packages (from scikit-plot) (0.14.1)\n",
            "Requirement already satisfied: scipy>=0.9 in /usr/local/lib/python3.6/dist-packages (from scikit-plot) (1.4.1)\n",
            "Requirement already satisfied: scikit-learn>=0.18 in /usr/local/lib/python3.6/dist-packages (from scikit-plot) (0.22.2.post1)\n",
            "Requirement already satisfied: matplotlib>=1.4.0 in /usr/local/lib/python3.6/dist-packages (from scikit-plot) (3.2.1)\n",
            "Requirement already satisfied: numpy>=1.13.3 in /usr/local/lib/python3.6/dist-packages (from scipy>=0.9->scikit-plot) (1.18.2)\n",
            "Requirement already satisfied: cycler>=0.10 in /usr/local/lib/python3.6/dist-packages (from matplotlib>=1.4.0->scikit-plot) (0.10.0)\n",
            "Requirement already satisfied: python-dateutil>=2.1 in /usr/local/lib/python3.6/dist-packages (from matplotlib>=1.4.0->scikit-plot) (2.8.1)\n",
            "Requirement already satisfied: pyparsing!=2.0.4,!=2.1.2,!=2.1.6,>=2.0.1 in /usr/local/lib/python3.6/dist-packages (from matplotlib>=1.4.0->scikit-plot) (2.4.6)\n",
            "Requirement already satisfied: kiwisolver>=1.0.1 in /usr/local/lib/python3.6/dist-packages (from matplotlib>=1.4.0->scikit-plot) (1.2.0)\n",
            "Requirement already satisfied: six in /usr/local/lib/python3.6/dist-packages (from cycler>=0.10->matplotlib>=1.4.0->scikit-plot) (1.12.0)\n"
          ],
          "name": "stdout"
        }
      ]
    },
    {
      "cell_type": "code",
      "metadata": {
        "id": "1cSwz4KlSlXL",
        "colab_type": "code",
        "colab": {}
      },
      "source": [
        "import random\n",
        "import numpy as np\n",
        "import torch\n",
        "import torchvision\n",
        "from  torch.autograd import Variable\n",
        "import torch.nn as nn\n",
        "import torch.nn.functional as F\n",
        "import torch.optim as optim\n",
        "from  torchvision import datasets, transforms\n",
        "from torchsummary import summary\n",
        "import os\n",
        "import skimage"
      ],
      "execution_count": 0,
      "outputs": []
    },
    {
      "cell_type": "code",
      "metadata": {
        "id": "RNUaMFmEcKO0",
        "colab_type": "code",
        "colab": {}
      },
      "source": [
        "import re\n",
        "import string\n",
        "import pandas as pd\n",
        "import matplotlib.pyplot as plt\n",
        "import scikitplot.plotters as skplt\n",
        "from gensim.models import Doc2Vec\n",
        "from gensim.models.doc2vec import TaggedDocument\n",
        "from gensim import utils\n",
        "from nltk.corpus import stopwords"
      ],
      "execution_count": 0,
      "outputs": []
    },
    {
      "cell_type": "code",
      "metadata": {
        "id": "Sz3ne69xUKOB",
        "colab_type": "code",
        "colab": {}
      },
      "source": [
        "import warnings\n",
        "warnings.filterwarnings(\"ignore\")"
      ],
      "execution_count": 0,
      "outputs": []
    },
    {
      "cell_type": "code",
      "metadata": {
        "id": "Q-227d4kcHZu",
        "colab_type": "code",
        "colab": {}
      },
      "source": [
        "def plot_cmat(yte, ypred):\n",
        "    '''Plotting confusion matrix'''\n",
        "    skplt.plot_confusion_matrix(yte,ypred,normalize=True)\n",
        "    plt.show()"
      ],
      "execution_count": 0,
      "outputs": []
    },
    {
      "cell_type": "code",
      "metadata": {
        "id": "eV0M29WpDeCW",
        "colab_type": "code",
        "colab": {}
      },
      "source": [
        "class nn_Fake_News(nn.Module):\n",
        "  def __init__(self):\n",
        "    super(nn_Fake_News, self).__init__()\n",
        "    self.nn_forward = nn.Sequential(\n",
        "        nn.Linear(300, 256),\n",
        "        nn.ReLU(),\n",
        "        nn.Dropout(0.8),\n",
        "        # nn.Linear(256, 256),\n",
        "        # nn.ReLU(),\n",
        "        # nn.Dropout(0.5),\n",
        "        nn.Linear(256, 80),\n",
        "        nn.ReLU(),\n",
        "        nn.Dropout(0.8),\n",
        "        nn.Linear(80, 2),\n",
        "        #nn.Sigmoid()\n",
        "    )\n",
        "\n",
        "  def forward(self, input):\n",
        "    return self.nn_forward(input)\n"
      ],
      "execution_count": 0,
      "outputs": []
    },
    {
      "cell_type": "code",
      "metadata": {
        "id": "QQOcmaTtppF9",
        "colab_type": "code",
        "colab": {}
      },
      "source": [
        "xtr = np.load('./xtr.npy')\n",
        "xte = np.load('./xte.npy')\n",
        "ytr = np.load('./ytr.npy')\n",
        "yte = np.load('./yte.npy')\n",
        "\n",
        "tr_label = np.zeros((xtr.shape[0], 2), dtype=float)\n",
        "for i in range(xtr.shape[0]):\n",
        "  if ytr[i] == 1:\n",
        "    tr_label[i, :] = [0.0, 1.0]\n",
        "  else:\n",
        "    tr_label[i, :] = [1.0, 0.0]\n",
        "tr_label = torch.from_numpy(tr_label).type(torch.DoubleTensor).cuda()"
      ],
      "execution_count": 0,
      "outputs": []
    },
    {
      "cell_type": "code",
      "metadata": {
        "id": "NEOTdZ56rLF9",
        "colab_type": "code",
        "outputId": "9718b2cd-f137-4ac0-f0a3-e336788ef536",
        "colab": {
          "base_uri": "https://localhost:8080/",
          "height": 399
        }
      },
      "source": [
        "nn_FN = nn_Fake_News().double().cuda()\n",
        "optimizer = optim.SGD(nn_FN.parameters(), lr=0.01, momentum=0.9)\n",
        "\n",
        "loss_function = nn.BCEWithLogitsLoss()\n",
        "\n",
        "for epoch in range(1000):  \n",
        "  y_pred = nn_FN(torch.from_numpy(xtr).cuda())\n",
        "\n",
        "  optimizer.zero_grad()\n",
        "  loss = loss_function(y_pred, tr_label.detach())\n",
        "  \n",
        "  loss.backward()\n",
        "  optimizer.step()        \n",
        "\n",
        "  #print(\"Loss = %.5f\" % loss.item()) \n",
        "  if (epoch%100==0):\n",
        "    print(\"Epoch %d\" % epoch)\n",
        "    print(\"Loss = %.5f\" % loss.item()) \n",
        "    torch.save(nn_FN, 'nn_Fake_News.pkl')\n",
        "\n",
        "print('Finished Training')"
      ],
      "execution_count": 0,
      "outputs": [
        {
          "output_type": "stream",
          "text": [
            "Epoch 0\n",
            "Loss = 0.69824\n",
            "Epoch 100\n",
            "Loss = 0.65173\n",
            "Epoch 200\n",
            "Loss = 0.43305\n",
            "Epoch 300\n",
            "Loss = 0.32857\n",
            "Epoch 400\n",
            "Loss = 0.28749\n",
            "Epoch 500\n",
            "Loss = 0.26329\n",
            "Epoch 600\n",
            "Loss = 0.24763\n",
            "Epoch 700\n",
            "Loss = 0.23469\n",
            "Epoch 800\n",
            "Loss = 0.22305\n",
            "Epoch 900\n",
            "Loss = 0.21600\n",
            "Finished Training\n"
          ],
          "name": "stdout"
        }
      ]
    },
    {
      "cell_type": "code",
      "metadata": {
        "id": "N2vlArY-vsPc",
        "colab_type": "code",
        "outputId": "a8c6f6cb-1a29-4adc-f26b-8077d22a3fdb",
        "colab": {
          "base_uri": "https://localhost:8080/",
          "height": 313
        }
      },
      "source": [
        "y_pred_raw = nn_FN(torch.from_numpy(xte).cuda())\n",
        "y_pred = np.zeros(y_pred_raw.shape[0])\n",
        "for i in range(y_pred_raw.shape[0]):\n",
        "    if y_pred_raw[i, 1] > y_pred_raw[i, 0]:\n",
        "      y_pred[i] = 1\n",
        "    else:\n",
        "      y_pred[i] = 0\n",
        "\n",
        "m = yte.shape[0]\n",
        "n = (yte != y_pred).sum()\n",
        "print(\"Accuracy = \" + format((m-n)/m*100, '.2f') + \"%\")   # 72.94%\n",
        "\n",
        "# Draw the confusion matrix\n",
        "plot_cmat(yte, y_pred)"
      ],
      "execution_count": 0,
      "outputs": [
        {
          "output_type": "stream",
          "text": [
            "Accuracy = 92.27%\n"
          ],
          "name": "stdout"
        },
        {
          "output_type": "display_data",
          "data": {
            "image/png": "[encoded data removed]",
            "text/plain": [
              "<Figure size 432x288 with 2 Axes>"
            ]
          },
          "metadata": {
            "tags": []
          }
        }
      ]
    }
  ]
}